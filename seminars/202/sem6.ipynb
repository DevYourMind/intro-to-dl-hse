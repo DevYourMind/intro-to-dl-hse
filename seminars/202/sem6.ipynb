{
 "cells": [
  {
   "attachments": {},
   "cell_type": "markdown",
   "metadata": {},
   "source": [
    "# Word2Vec training\n",
    "\n",
    "This notebook is based on the [word2vec-pytorch](https://github.com/OlgaChernytska/word2vec-pytorch/tree/18d4f24c4d82dde76de9f6e4d88bbcbcf68befc2) repo."
   ]
  },
  {
   "cell_type": "code",
   "execution_count": null,
   "metadata": {},
   "outputs": [],
   "source": [
    "!python -m wget https://s3.amazonaws.com/research.metamind.io/wikitext/wikitext-2-v1.zip\n",
    "!python -m unzip wikitext-2-v1.zip"
   ]
  },
  {
   "cell_type": "code",
   "execution_count": 12,
   "metadata": {},
   "outputs": [],
   "source": [
    "import torch\n",
    "import numpy as np\n",
    "from torch import nn\n",
    "from torch.utils.data import Dataset, DataLoader\n",
    "\n",
    "from torchtext.data.utils import get_tokenizer\n",
    "from torchtext.vocab import build_vocab_from_iterator\n",
    "\n",
    "import matplotlib.pyplot as plt\n",
    "import seaborn as sns\n",
    "\n",
    "sns.set_style('whitegrid')\n",
    "plt.rcParams.update({'font.size': 14})"
   ]
  },
  {
   "cell_type": "code",
   "execution_count": 2,
   "metadata": {},
   "outputs": [],
   "source": [
    "TRAIN_TOKENS = 'wikitext-2/wiki.train.tokens'\n",
    "VALID_TOKENS = 'wikitext-2/wiki.valid.tokens'\n",
    "\n",
    "SKIPGRAM_N_WORDS = 4\n",
    "MIN_WORD_FREQUENCY = 20\n",
    "MAX_SEQUENCE_LENGTH = 256\n",
    "\n",
    "EMBED_DIM = 256\n",
    "EMBED_MAX_NORM = 1\n",
    "BATCH_SIZE = 16\n",
    "NUM_EPOCHS = 20"
   ]
  },
  {
   "cell_type": "code",
   "execution_count": 13,
   "metadata": {},
   "outputs": [],
   "source": [
    "tokenizer = get_tokenizer(\"basic_english\", language=\"en\")\n",
    "\n",
    "def load_and_preprocess_dataset(path):\n",
    "    with open(path, 'r', encoding='utf-8') as file:\n",
    "        lines = file.readlines()\n",
    "\n",
    "    data = list(filter(\n",
    "        lambda sent: len(sent) > SKIPGRAM_N_WORDS * 2,\n",
    "        map(tokenizer, lines)\n",
    "    ))\n",
    "    return data"
   ]
  },
  {
   "cell_type": "code",
   "execution_count": 8,
   "metadata": {},
   "outputs": [
    {
     "name": "stdout",
     "output_type": "stream",
     "text": [
      "Num sentences: train - 17715, valid - 1892)\n",
      "Total tokens: train - 2014338, valid - 211057)\n",
      "Average tokens in sentence: 113.71\n"
     ]
    }
   ],
   "source": [
    "train_data = load_and_preprocess_dataset(TRAIN_TOKENS)\n",
    "valid_data = load_and_preprocess_dataset(VALID_TOKENS)\n",
    "\n",
    "total_train_tokens = sum(len(sent) for sent in train_data)\n",
    "total_valid_tokens = sum(len(sent) for sent in valid_data)\n",
    "\n",
    "print(f'Num sentences: train - {len(train_data)}, valid - {len(valid_data)})')\n",
    "print(f'Total tokens: train - {total_train_tokens}, valid - {total_valid_tokens})')\n",
    "print(f'Average tokens in sentence: {total_train_tokens / len(train_data):.2f}')"
   ]
  },
  {
   "cell_type": "code",
   "execution_count": 9,
   "metadata": {},
   "outputs": [
    {
     "data": {
      "image/png": "[encoded data removed]",
      "text/plain": [
       "<Figure size 500x500 with 1 Axes>"
      ]
     },
     "metadata": {},
     "output_type": "display_data"
    }
   ],
   "source": [
    "_ = sns.displot([len(sent) for sent in train_data])"
   ]
  },
  {
   "cell_type": "code",
   "execution_count": 7,
   "metadata": {},
   "outputs": [
    {
     "name": "stdout",
     "output_type": "stream",
     "text": [
      "Vocab size: 8076\n"
     ]
    }
   ],
   "source": [
    "vocab = build_vocab_from_iterator(train_data, specials=[\"<unk>\"], min_freq=MIN_WORD_FREQUENCY)\n",
    "vocab.set_default_index(vocab[\"<unk>\"])\n",
    "\n",
    "VOCAB_SIZE = len(vocab)\n",
    "print(f'Vocab size: {VOCAB_SIZE}')"
   ]
  },
  {
   "cell_type": "code",
   "execution_count": 7,
   "metadata": {},
   "outputs": [
    {
     "data": {
      "text/plain": [
       "['seaside', 'holiday', 'j', '.', 'salmon', ',', '1918', ',', '1921']"
      ]
     },
     "execution_count": 7,
     "metadata": {},
     "output_type": "execute_result"
    }
   ],
   "source": [
    "train_data[102]"
   ]
  },
  {
   "cell_type": "code",
   "execution_count": 8,
   "metadata": {},
   "outputs": [
    {
     "data": {
      "text/plain": [
       "[0, 3041, 1415, 3, 4855, 2, 2079, 2, 3157]"
      ]
     },
     "execution_count": 8,
     "metadata": {},
     "output_type": "execute_result"
    }
   ],
   "source": [
    "vocab(train_data[102])"
   ]
  },
  {
   "cell_type": "code",
   "execution_count": 11,
   "metadata": {},
   "outputs": [],
   "source": [
    "def collate_fn(batch):\n",
    "    \"\"\"\n",
    "    Collate_fn for Skip-Gram model to be used with Dataloader.\n",
    "    `batch` is expected to be list of text paragrahs.\n",
    "\n",
    "    Context is represented as N=SKIPGRAM_N_WORDS past words \n",
    "    and N=SKIPGRAM_N_WORDS future words.\n",
    "\n",
    "    Long paragraphs will be truncated to contain\n",
    "    no more that MAX_SEQUENCE_LENGTH tokens.\n",
    "\n",
    "    Each element in `batch_input` is a middle word.\n",
    "    Each element in `batch_output` is a context word.\n",
    "    \"\"\"\n",
    "    batch_input, batch_output = [], []\n",
    "    for text in batch:\n",
    "        text_tokens_ids = vocab(text)\n",
    "\n",
    "        if MAX_SEQUENCE_LENGTH:\n",
    "            text_tokens_ids = text_tokens_ids[:MAX_SEQUENCE_LENGTH]\n",
    "\n",
    "        for idx in range(len(text_tokens_ids) - SKIPGRAM_N_WORDS * 2):\n",
    "            token_id_sequence = text_tokens_ids[idx : (idx + SKIPGRAM_N_WORDS * 2 + 1)]\n",
    "            input_ = token_id_sequence.pop(SKIPGRAM_N_WORDS)\n",
    "            outputs = token_id_sequence\n",
    "\n",
    "            batch_input += [input_] * len(outputs)\n",
    "            batch_output += outputs\n",
    "\n",
    "    batch_input = torch.tensor(batch_input, dtype=torch.long)\n",
    "    batch_output = torch.tensor(batch_output, dtype=torch.long)\n",
    "    return batch_input, batch_output"
   ]
  },
  {
   "cell_type": "code",
   "execution_count": 11,
   "metadata": {},
   "outputs": [],
   "source": [
    "train_loader = DataLoader(train_data, batch_size=BATCH_SIZE, \n",
    "                          pin_memory=True, collate_fn=collate_fn, shuffle=True)\n",
    "valid_loader = DataLoader(valid_data, batch_size=BATCH_SIZE,\n",
    "                          pin_memory=True, collate_fn=collate_fn)"
   ]
  },
  {
   "cell_type": "code",
   "execution_count": 10,
   "metadata": {},
   "outputs": [],
   "source": [
    "from IPython.display import clear_output\n",
    "from tqdm import tqdm\n",
    "\n",
    "\n",
    "def plot_losses(train_losses, valid_losses):\n",
    "    clear_output()\n",
    "    plt.figure(figsize=(6, 4))\n",
    "    plt.plot(range(1, len(train_losses) + 1), train_losses, label='train', color='deepskyblue', linewidth=2)\n",
    "    plt.plot(range(1, len(valid_losses) + 1), valid_losses, label='valid', color='springgreen', linewidth=2)\n",
    "    plt.ylabel('loss')\n",
    "    plt.xlabel('epoch')\n",
    "    plt.legend()\n",
    "    plt.show()"
   ]
  },
  {
   "cell_type": "code",
   "execution_count": 11,
   "metadata": {},
   "outputs": [
    {
     "data": {
      "text/plain": [
       "device(type='cuda', index=0)"
      ]
     },
     "execution_count": 11,
     "metadata": {},
     "output_type": "execute_result"
    }
   ],
   "source": [
    "device = torch.device('cuda:0' if torch.cuda.is_available() else 'cpu')\n",
    "device"
   ]
  },
  {
   "cell_type": "code",
   "execution_count": 9,
   "metadata": {},
   "outputs": [],
   "source": [
    "def training_epoch(model, optimizer, criterion, train_loader, tqdm_desc):\n",
    "    train_loss, num_batches = 0.0, 1\n",
    "    model.train()\n",
    "    for inputs, outputs in tqdm(train_loader, desc=tqdm_desc):\n",
    "        inputs = inputs.to(device)\n",
    "        outputs = outputs.to(device)\n",
    "\n",
    "        optimizer.zero_grad()\n",
    "        logits = model(inputs)\n",
    "        loss = criterion(logits, outputs)\n",
    "        loss.backward()\n",
    "        optimizer.step()\n",
    "        \n",
    "        train_loss += loss.item()\n",
    "        num_batches += 1\n",
    "\n",
    "    train_loss /= num_batches\n",
    "    return train_loss\n",
    "\n",
    "\n",
    "@torch.no_grad()\n",
    "def validation_epoch(model, criterion, valid_loader, tqdm_desc):\n",
    "    valid_loss, num_batches = 0.0, 0\n",
    "    model.eval()\n",
    "    for inputs, outputs in tqdm(valid_loader, desc=tqdm_desc):\n",
    "        inputs = inputs.to(device)\n",
    "        outputs = outputs.to(device)\n",
    "\n",
    "        logits = model(inputs)\n",
    "        loss = criterion(logits, outputs)\n",
    "\n",
    "        valid_loss += loss.item()\n",
    "        num_batches += 1\n",
    "\n",
    "    valid_loss /= num_batches\n",
    "    return valid_loss\n",
    "\n",
    "\n",
    "def train(model, optimizer, scheduler, criterion, train_loader, valid_loader, num_epochs):\n",
    "    train_losses, valid_losses = [], []\n",
    "\n",
    "    for epoch in range(1, num_epochs + 1):\n",
    "        train_loss = training_epoch(\n",
    "            model, optimizer, criterion, train_loader,\n",
    "            tqdm_desc=f'Training {epoch}/{num_epochs}'\n",
    "        )\n",
    "        valid_loss = validation_epoch(\n",
    "            model, criterion, valid_loader,\n",
    "            tqdm_desc=f'Validating {epoch}/{num_epochs}'\n",
    "        )\n",
    "\n",
    "        if scheduler is not None:\n",
    "            scheduler.step()\n",
    "\n",
    "        train_losses += [train_loss]\n",
    "        valid_losses += [valid_loss]\n",
    "        plot_losses(train_losses, valid_losses)"
   ]
  },
  {
   "cell_type": "code",
   "execution_count": 14,
   "metadata": {},
   "outputs": [],
   "source": [
    "class Word2VecModel(nn.Module):\n",
    "    def __init__(self, embed_dim, embed_max_norm, vocab_size):\n",
    "        super().__init__()\n",
    "        self.embeds = nn.Embedding(num_embeddings=vocab_size, embedding_dim=embed_dim,\n",
    "                                   max_norm=embed_max_norm)\n",
    "        self.decoder = nn.Linear(embed_dim, vocab_size)\n",
    "        \n",
    "    def forward(self, tokens):\n",
    "        embeds = self.embeds(tokens)\n",
    "        logits = self.decoder(embeds)\n",
    "        return logits"
   ]
  },
  {
   "cell_type": "code",
   "execution_count": 14,
   "metadata": {},
   "outputs": [],
   "source": [
    "model = Word2VecModel(embed_dim=EMBED_DIM, embed_max_norm=EMBED_MAX_NORM,\n",
    "                      vocab_size=VOCAB_SIZE).to(device)\n",
    "optimizer = torch.optim.Adam(model.parameters(), lr=1e-3)\n",
    "scheduler = torch.optim.lr_scheduler.CosineAnnealingLR(optimizer, NUM_EPOCHS)\n",
    "criterion = nn.CrossEntropyLoss()"
   ]
  },
  {
   "cell_type": "code",
   "execution_count": 23,
   "metadata": {},
   "outputs": [
    {
     "data": {
      "image/png": "[encoded data removed]",
      "text/plain": [
       "<Figure size 600x400 with 1 Axes>"
      ]
     },
     "metadata": {},
     "output_type": "display_data"
    }
   ],
   "source": [
    "train(model, optimizer, scheduler, criterion, train_loader, valid_loader, NUM_EPOCHS)"
   ]
  },
  {
   "cell_type": "code",
   "execution_count": 8,
   "metadata": {},
   "outputs": [],
   "source": [
    "import re\n",
    "\n",
    "\n",
    "def get_similarities(embed_vector):\n",
    "    similarities = embed_matrix @ embed_vector / embed_norms / torch.norm(embed_vector)\n",
    "    top_indices = similarities.argsort(descending=True)\n",
    "    return similarities, top_indices\n",
    "\n",
    "\n",
    "def get_similar(query, num_similar=5):\n",
    "    print(f'Processing query \\\"{query}\\\"')\n",
    "    split_query = re.split('([^a-zA-Z0-9])', query)\n",
    "    index = vocab[split_query[0]]\n",
    "    embed_vector = torch.clone(embed_matrix[index])\n",
    "    if index > 0:\n",
    "        print(f'Found word \\\"{split_query[0]}\\\" in vocab')\n",
    "    else:\n",
    "        print(f'Word \\\"{split_query[0]}\\\" not in vocab, using <unk>')\n",
    "\n",
    "    for i in range(2, len(split_query), 2):\n",
    "        index = vocab[split_query[i]]\n",
    "        if index > 0:\n",
    "            print(f'Found word \\\"{split_query[i]}\\\" in vocab, ', end='')\n",
    "        else:\n",
    "            print(f'Word \\\"{split_query[i]}\\\" not in vocab, using <unk>, ', end='')\n",
    "        print(f'operation \\\"{split_query[i - 1]}\\\"')\n",
    "\n",
    "        if split_query[i - 1] == '+':\n",
    "            embed_vector += embed_matrix[index]\n",
    "        elif split_query[i - 1] == '-':\n",
    "            embed_vector -= embed_matrix[index]\n",
    "        else:\n",
    "            raise ValueError('Unknown operation')\n",
    "\n",
    "    similarities, top_indices = get_similarities(embed_vector)\n",
    "    itos = vocab.get_itos()\n",
    "    print('Top similar:')\n",
    "    for top_index in top_indices[:num_similar]:\n",
    "        print(f'    {itos[top_index]}: sim = {similarities[top_index]:.4f}')"
   ]
  },
  {
   "cell_type": "code",
   "execution_count": 26,
   "metadata": {},
   "outputs": [],
   "source": [
    "embed_matrix = model.embeds.weight.detach()\n",
    "embed_norms = (embed_matrix ** 2).sum(1).sqrt()"
   ]
  },
  {
   "cell_type": "code",
   "execution_count": 28,
   "metadata": {},
   "outputs": [
    {
     "name": "stdout",
     "output_type": "stream",
     "text": [
      "Processing query \"woman\"\n",
      "Found word \"woman\" in vocab\n",
      "Top similar:\n",
      "    woman: sim = 1.0000\n",
      "    girl: sim = 0.8052\n",
      "    man: sim = 0.7537\n",
      "    lover: sim = 0.7271\n",
      "    jealous: sim = 0.7245\n"
     ]
    }
   ],
   "source": [
    "get_similar('woman')"
   ]
  },
  {
   "cell_type": "code",
   "execution_count": 29,
   "metadata": {},
   "outputs": [
    {
     "name": "stdout",
     "output_type": "stream",
     "text": [
      "Processing query \"kick\"\n",
      "Found word \"kick\" in vocab\n",
      "Top similar:\n",
      "    kick: sim = 1.0000\n",
      "    touchdown: sim = 0.8505\n",
      "    ecu: sim = 0.8439\n",
      "    punt: sim = 0.8219\n",
      "    yard: sim = 0.7997\n"
     ]
    }
   ],
   "source": [
    "get_similar('kick')"
   ]
  },
  {
   "cell_type": "code",
   "execution_count": 32,
   "metadata": {},
   "outputs": [
    {
     "name": "stdout",
     "output_type": "stream",
     "text": [
      "Processing query \"help\"\n",
      "Found word \"help\" in vocab\n",
      "Top similar:\n",
      "    help: sim = 1.0000\n",
      "    keep: sim = 0.6878\n",
      "    try: sim = 0.6757\n",
      "    accept: sim = 0.6722\n",
      "    bring: sim = 0.6704\n"
     ]
    }
   ],
   "source": [
    "get_similar('help')"
   ]
  },
  {
   "cell_type": "code",
   "execution_count": 33,
   "metadata": {},
   "outputs": [
    {
     "name": "stdout",
     "output_type": "stream",
     "text": [
      "Processing query \"king-man+woman\"\n",
      "Found word \"king\" in vocab\n",
      "Found word \"man\" in vocab, operation \"-\"\n",
      "Found word \"woman\" in vocab, operation \"+\"\n",
      "Top similar:\n",
      "    king: sim = 0.8170\n",
      "    lord: sim = 0.7112\n",
      "    hairan: sim = 0.7016\n",
      "    son: sim = 0.6987\n",
      "    henry: sim = 0.6918\n",
      "    eldest: sim = 0.6843\n",
      "    edward: sim = 0.6740\n",
      "    heir: sim = 0.6671\n",
      "    isesi: sim = 0.6523\n",
      "    daughter: sim = 0.6501\n"
     ]
    }
   ],
   "source": [
    "v = get_similar('king-man+woman', num_similar=10)"
   ]
  },
  {
   "attachments": {},
   "cell_type": "markdown",
   "metadata": {},
   "source": [
    "# FastText for sentiment classification"
   ]
  },
  {
   "cell_type": "code",
   "execution_count": null,
   "metadata": {},
   "outputs": [],
   "source": [
    "%%bash\n",
    "kaggle datasets download -d shivkumarganesh/bumble-dating-app-google-play-store-review\n",
    "unzip bumble-dating-app-google-play-store-review.zip"
   ]
  },
  {
   "cell_type": "code",
   "execution_count": 14,
   "metadata": {},
   "outputs": [],
   "source": [
    "import pandas as pd\n",
    "import fasttext\n",
    "import fasttext.util\n",
    "\n",
    "import matplotlib.pyplot as plt\n",
    "import seaborn as sns\n",
    "\n",
    "sns.set_style('whitegrid')\n",
    "plt.rcParams.update({'font.size': 14})"
   ]
  },
  {
   "cell_type": "code",
   "execution_count": 15,
   "metadata": {},
   "outputs": [
    {
     "data": {
      "text/html": [
       "<div>\n",
       "<style scoped>\n",
       "    .dataframe tbody tr th:only-of-type {\n",
       "        vertical-align: middle;\n",
       "    }\n",
       "\n",
       "    .dataframe tbody tr th {\n",
       "        vertical-align: top;\n",
       "    }\n",
       "\n",
       "    .dataframe thead th {\n",
       "        text-align: right;\n",
       "    }\n",
       "</style>\n",
       "<table border=\"1\" class=\"dataframe\">\n",
       "  <thead>\n",
       "    <tr style=\"text-align: right;\">\n",
       "      <th></th>\n",
       "      <th>reviewId</th>\n",
       "      <th>userName</th>\n",
       "      <th>userImage</th>\n",
       "      <th>content</th>\n",
       "      <th>score</th>\n",
       "      <th>thumbsUpCount</th>\n",
       "      <th>reviewCreatedVersion</th>\n",
       "      <th>at</th>\n",
       "      <th>replyContent</th>\n",
       "      <th>repliedAt</th>\n",
       "      <th>appVersion</th>\n",
       "    </tr>\n",
       "  </thead>\n",
       "  <tbody>\n",
       "    <tr>\n",
       "      <th>0</th>\n",
       "      <td>8c0445eb-c4cd-4be4-8837-752a19d7f3c9</td>\n",
       "      <td>A Google user</td>\n",
       "      <td>https://play-lh.googleusercontent.com/EGemoI2N...</td>\n",
       "      <td>Junk. Just an ego stroker for girls who have n...</td>\n",
       "      <td>1</td>\n",
       "      <td>0</td>\n",
       "      <td>5.161.1</td>\n",
       "      <td>2023-06-11 00:34:46</td>\n",
       "      <td>Thank you for your review. We have acknowledge...</td>\n",
       "      <td>2020-10-15 09:31:24</td>\n",
       "      <td>5.161.1</td>\n",
       "    </tr>\n",
       "    <tr>\n",
       "      <th>1</th>\n",
       "      <td>ca5c2da8-f6e2-4825-8cef-4365251e12a1</td>\n",
       "      <td>Iris Ellington</td>\n",
       "      <td>https://play-lh.googleusercontent.com/a-/AD_cM...</td>\n",
       "      <td>I would have so many matches but I can't cuz I...</td>\n",
       "      <td>1</td>\n",
       "      <td>0</td>\n",
       "      <td>5.321.0</td>\n",
       "      <td>2023-06-10 23:49:50</td>\n",
       "      <td>NaN</td>\n",
       "      <td>NaN</td>\n",
       "      <td>5.321.0</td>\n",
       "    </tr>\n",
       "    <tr>\n",
       "      <th>2</th>\n",
       "      <td>ca5eed4b-2087-4d8e-918e-6c6c42d0e5aa</td>\n",
       "      <td>Eliza Lund</td>\n",
       "      <td>https://play-lh.googleusercontent.com/a-/AD_cM...</td>\n",
       "      <td>I wish the app and website allowed hyperlinkin...</td>\n",
       "      <td>2</td>\n",
       "      <td>0</td>\n",
       "      <td>5.321.0</td>\n",
       "      <td>2023-06-10 23:47:31</td>\n",
       "      <td>NaN</td>\n",
       "      <td>NaN</td>\n",
       "      <td>5.321.0</td>\n",
       "    </tr>\n",
       "    <tr>\n",
       "      <th>3</th>\n",
       "      <td>35538991-b115-4a87-8654-2fad67c68f01</td>\n",
       "      <td>Pt G</td>\n",
       "      <td>https://play-lh.googleusercontent.com/a/AAcHTt...</td>\n",
       "      <td>It's not free</td>\n",
       "      <td>1</td>\n",
       "      <td>0</td>\n",
       "      <td>NaN</td>\n",
       "      <td>2023-06-10 23:45:08</td>\n",
       "      <td>NaN</td>\n",
       "      <td>NaN</td>\n",
       "      <td>NaN</td>\n",
       "    </tr>\n",
       "    <tr>\n",
       "      <th>4</th>\n",
       "      <td>1efba490-792b-476c-a706-310216698b8f</td>\n",
       "      <td>Gaia Images</td>\n",
       "      <td>https://play-lh.googleusercontent.com/a-/AD_cM...</td>\n",
       "      <td>I set my profile up as male searching for a fe...</td>\n",
       "      <td>1</td>\n",
       "      <td>0</td>\n",
       "      <td>5.321.0</td>\n",
       "      <td>2023-06-10 23:39:24</td>\n",
       "      <td>NaN</td>\n",
       "      <td>NaN</td>\n",
       "      <td>5.321.0</td>\n",
       "    </tr>\n",
       "    <tr>\n",
       "      <th>...</th>\n",
       "      <td>...</td>\n",
       "      <td>...</td>\n",
       "      <td>...</td>\n",
       "      <td>...</td>\n",
       "      <td>...</td>\n",
       "      <td>...</td>\n",
       "      <td>...</td>\n",
       "      <td>...</td>\n",
       "      <td>...</td>\n",
       "      <td>...</td>\n",
       "      <td>...</td>\n",
       "    </tr>\n",
       "    <tr>\n",
       "      <th>131726</th>\n",
       "      <td>61bc7cdc-3085-4631-ac95-d8e42e2e0742</td>\n",
       "      <td>A Google user</td>\n",
       "      <td>https://play-lh.googleusercontent.com/EGemoI2N...</td>\n",
       "      <td>Finally here!</td>\n",
       "      <td>5</td>\n",
       "      <td>54</td>\n",
       "      <td>1.0.1</td>\n",
       "      <td>2015-12-01 02:17:24</td>\n",
       "      <td>NaN</td>\n",
       "      <td>NaN</td>\n",
       "      <td>1.0.1</td>\n",
       "    </tr>\n",
       "    <tr>\n",
       "      <th>131727</th>\n",
       "      <td>24d07489-88ad-496a-80ce-8f137c130323</td>\n",
       "      <td>A Google user</td>\n",
       "      <td>https://play-lh.googleusercontent.com/EGemoI2N...</td>\n",
       "      <td>Finally!</td>\n",
       "      <td>5</td>\n",
       "      <td>75</td>\n",
       "      <td>1.0.1</td>\n",
       "      <td>2015-12-01 02:09:05</td>\n",
       "      <td>NaN</td>\n",
       "      <td>NaN</td>\n",
       "      <td>1.0.1</td>\n",
       "    </tr>\n",
       "    <tr>\n",
       "      <th>131728</th>\n",
       "      <td>22a42d0d-7a12-400d-a2af-826f35d21581</td>\n",
       "      <td>A Google user</td>\n",
       "      <td>https://play-lh.googleusercontent.com/EGemoI2N...</td>\n",
       "      <td>Finally, an app where women have to start the ...</td>\n",
       "      <td>4</td>\n",
       "      <td>2</td>\n",
       "      <td>1.0.1</td>\n",
       "      <td>2015-12-01 00:18:53</td>\n",
       "      <td>NaN</td>\n",
       "      <td>NaN</td>\n",
       "      <td>1.0.1</td>\n",
       "    </tr>\n",
       "    <tr>\n",
       "      <th>131729</th>\n",
       "      <td>2480a41f-8863-4948-9f83-7d856bd9dc78</td>\n",
       "      <td>A Google user</td>\n",
       "      <td>https://play-lh.googleusercontent.com/EGemoI2N...</td>\n",
       "      <td>At last we have Android version!</td>\n",
       "      <td>5</td>\n",
       "      <td>60</td>\n",
       "      <td>1.0.0</td>\n",
       "      <td>2015-11-30 21:27:51</td>\n",
       "      <td>NaN</td>\n",
       "      <td>NaN</td>\n",
       "      <td>1.0.0</td>\n",
       "    </tr>\n",
       "    <tr>\n",
       "      <th>131730</th>\n",
       "      <td>6ebb270a-3b4b-4ff5-b98c-8899dcfd40ee</td>\n",
       "      <td>A Google user</td>\n",
       "      <td>https://play-lh.googleusercontent.com/EGemoI2N...</td>\n",
       "      <td>Nice and smooth.</td>\n",
       "      <td>5</td>\n",
       "      <td>52</td>\n",
       "      <td>NaN</td>\n",
       "      <td>2015-11-29 23:15:25</td>\n",
       "      <td>NaN</td>\n",
       "      <td>NaN</td>\n",
       "      <td>NaN</td>\n",
       "    </tr>\n",
       "  </tbody>\n",
       "</table>\n",
       "<p>131717 rows × 11 columns</p>\n",
       "</div>"
      ],
      "text/plain": [
       "                                    reviewId        userName  \\\n",
       "0       8c0445eb-c4cd-4be4-8837-752a19d7f3c9   A Google user   \n",
       "1       ca5c2da8-f6e2-4825-8cef-4365251e12a1  Iris Ellington   \n",
       "2       ca5eed4b-2087-4d8e-918e-6c6c42d0e5aa      Eliza Lund   \n",
       "3       35538991-b115-4a87-8654-2fad67c68f01            Pt G   \n",
       "4       1efba490-792b-476c-a706-310216698b8f     Gaia Images   \n",
       "...                                      ...             ...   \n",
       "131726  61bc7cdc-3085-4631-ac95-d8e42e2e0742   A Google user   \n",
       "131727  24d07489-88ad-496a-80ce-8f137c130323   A Google user   \n",
       "131728  22a42d0d-7a12-400d-a2af-826f35d21581   A Google user   \n",
       "131729  2480a41f-8863-4948-9f83-7d856bd9dc78   A Google user   \n",
       "131730  6ebb270a-3b4b-4ff5-b98c-8899dcfd40ee   A Google user   \n",
       "\n",
       "                                                userImage  \\\n",
       "0       https://play-lh.googleusercontent.com/EGemoI2N...   \n",
       "1       https://play-lh.googleusercontent.com/a-/AD_cM...   \n",
       "2       https://play-lh.googleusercontent.com/a-/AD_cM...   \n",
       "3       https://play-lh.googleusercontent.com/a/AAcHTt...   \n",
       "4       https://play-lh.googleusercontent.com/a-/AD_cM...   \n",
       "...                                                   ...   \n",
       "131726  https://play-lh.googleusercontent.com/EGemoI2N...   \n",
       "131727  https://play-lh.googleusercontent.com/EGemoI2N...   \n",
       "131728  https://play-lh.googleusercontent.com/EGemoI2N...   \n",
       "131729  https://play-lh.googleusercontent.com/EGemoI2N...   \n",
       "131730  https://play-lh.googleusercontent.com/EGemoI2N...   \n",
       "\n",
       "                                                  content  score  \\\n",
       "0       Junk. Just an ego stroker for girls who have n...      1   \n",
       "1       I would have so many matches but I can't cuz I...      1   \n",
       "2       I wish the app and website allowed hyperlinkin...      2   \n",
       "3                                           It's not free      1   \n",
       "4       I set my profile up as male searching for a fe...      1   \n",
       "...                                                   ...    ...   \n",
       "131726                                      Finally here!      5   \n",
       "131727                                           Finally!      5   \n",
       "131728  Finally, an app where women have to start the ...      4   \n",
       "131729                   At last we have Android version!      5   \n",
       "131730                                   Nice and smooth.      5   \n",
       "\n",
       "        thumbsUpCount reviewCreatedVersion                   at  \\\n",
       "0                   0              5.161.1  2023-06-11 00:34:46   \n",
       "1                   0              5.321.0  2023-06-10 23:49:50   \n",
       "2                   0              5.321.0  2023-06-10 23:47:31   \n",
       "3                   0                  NaN  2023-06-10 23:45:08   \n",
       "4                   0              5.321.0  2023-06-10 23:39:24   \n",
       "...               ...                  ...                  ...   \n",
       "131726             54                1.0.1  2015-12-01 02:17:24   \n",
       "131727             75                1.0.1  2015-12-01 02:09:05   \n",
       "131728              2                1.0.1  2015-12-01 00:18:53   \n",
       "131729             60                1.0.0  2015-11-30 21:27:51   \n",
       "131730             52                  NaN  2015-11-29 23:15:25   \n",
       "\n",
       "                                             replyContent  \\\n",
       "0       Thank you for your review. We have acknowledge...   \n",
       "1                                                     NaN   \n",
       "2                                                     NaN   \n",
       "3                                                     NaN   \n",
       "4                                                     NaN   \n",
       "...                                                   ...   \n",
       "131726                                                NaN   \n",
       "131727                                                NaN   \n",
       "131728                                                NaN   \n",
       "131729                                                NaN   \n",
       "131730                                                NaN   \n",
       "\n",
       "                  repliedAt appVersion  \n",
       "0       2020-10-15 09:31:24    5.161.1  \n",
       "1                       NaN    5.321.0  \n",
       "2                       NaN    5.321.0  \n",
       "3                       NaN        NaN  \n",
       "4                       NaN    5.321.0  \n",
       "...                     ...        ...  \n",
       "131726                  NaN      1.0.1  \n",
       "131727                  NaN      1.0.1  \n",
       "131728                  NaN      1.0.1  \n",
       "131729                  NaN      1.0.0  \n",
       "131730                  NaN        NaN  \n",
       "\n",
       "[131717 rows x 11 columns]"
      ]
     },
     "execution_count": 15,
     "metadata": {},
     "output_type": "execute_result"
    }
   ],
   "source": [
    "data = pd.read_csv('bumble_google_play_reviews.csv')\n",
    "data = data[data.content.notna()]\n",
    "data"
   ]
  },
  {
   "cell_type": "code",
   "execution_count": 16,
   "metadata": {},
   "outputs": [
    {
     "data": {
      "image/png": "[encoded data removed]",
      "text/plain": [
       "<Figure size 500x500 with 1 Axes>"
      ]
     },
     "metadata": {},
     "output_type": "display_data"
    }
   ],
   "source": [
    "X = data.content.apply(tokenizer).to_list()\n",
    "y = (data.score >= 4).to_numpy().astype(int)\n",
    "_ = sns.displot(y)"
   ]
  },
  {
   "cell_type": "code",
   "execution_count": 17,
   "metadata": {},
   "outputs": [
    {
     "data": {
      "image/png": "[encoded data removed]",
      "text/plain": [
       "<Figure size 640x480 with 1 Axes>"
      ]
     },
     "metadata": {},
     "output_type": "display_data"
    }
   ],
   "source": [
    "plt.hist([len(sent) for sent in X], bins=100)\n",
    "plt.yscale('log')\n",
    "plt.ylabel('count')\n",
    "plt.xlabel('num words')\n",
    "plt.show()"
   ]
  },
  {
   "cell_type": "code",
   "execution_count": 18,
   "metadata": {},
   "outputs": [
    {
     "data": {
      "text/plain": [
       "(98787, 32930)"
      ]
     },
     "execution_count": 18,
     "metadata": {},
     "output_type": "execute_result"
    }
   ],
   "source": [
    "from sklearn.model_selection import train_test_split\n",
    "\n",
    "X_train, X_test, y_train, y_test = train_test_split(X, y, test_size=0.25, random_state=42)\n",
    "len(X_train), len(X_test)"
   ]
  },
  {
   "cell_type": "code",
   "execution_count": 19,
   "metadata": {},
   "outputs": [],
   "source": [
    "fasttext.util.download_model('en', if_exists='ignore')\n",
    "ft = fasttext.load_model('cc.en.300.bin')"
   ]
  },
  {
   "cell_type": "code",
   "execution_count": 20,
   "metadata": {},
   "outputs": [
    {
     "data": {
      "text/plain": [
       "(300,)"
      ]
     },
     "execution_count": 20,
     "metadata": {},
     "output_type": "execute_result"
    }
   ],
   "source": [
    "ft.get_word_vector('mother').shape"
   ]
  },
  {
   "cell_type": "code",
   "execution_count": 21,
   "metadata": {},
   "outputs": [
    {
     "data": {
      "text/plain": [
       "[(0.8316885828971863, 'father'),\n",
       " (0.8139842748641968, 'grandmother'),\n",
       " (0.8042423725128174, 'daughter'),\n",
       " (0.7595430612564087, 'aunt'),\n",
       " (0.7551708221435547, 'stepfather'),\n",
       " (0.7433159947395325, 'mom'),\n",
       " (0.7390366792678833, 'step-father'),\n",
       " (0.7379246950149536, 'stepmother'),\n",
       " (0.7268661856651306, 'step-mother'),\n",
       " (0.7265076041221619, 'sister')]"
      ]
     },
     "execution_count": 21,
     "metadata": {},
     "output_type": "execute_result"
    }
   ],
   "source": [
    "ft.get_nearest_neighbors('mother')"
   ]
  },
  {
   "cell_type": "code",
   "execution_count": 22,
   "metadata": {},
   "outputs": [],
   "source": [
    "from sklearn.feature_extraction.text import TfidfVectorizer\n",
    "from sklearn.linear_model import LogisticRegression\n",
    "from sklearn.metrics import accuracy_score"
   ]
  },
  {
   "cell_type": "code",
   "execution_count": 23,
   "metadata": {},
   "outputs": [],
   "source": [
    "X_train_sents = [' '.join(sent) for sent in X_train]\n",
    "X_test_sents = [' '.join(sent) for sent in X_test]"
   ]
  },
  {
   "cell_type": "code",
   "execution_count": 24,
   "metadata": {},
   "outputs": [
    {
     "data": {
      "text/plain": [
       "((98787, 8069), (32930, 8069))"
      ]
     },
     "execution_count": 24,
     "metadata": {},
     "output_type": "execute_result"
    }
   ],
   "source": [
    "tf_idf = TfidfVectorizer(min_df=5).fit(X_train_sents)\n",
    "tf_idf_train = tf_idf.transform(X_train_sents)\n",
    "tf_idf_test = tf_idf.transform(X_test_sents)\n",
    "\n",
    "tf_idf_train.shape, tf_idf_test.shape"
   ]
  },
  {
   "cell_type": "code",
   "execution_count": 25,
   "metadata": {},
   "outputs": [],
   "source": [
    "lr = LogisticRegression(max_iter=1000).fit(tf_idf_train, y_train)"
   ]
  },
  {
   "cell_type": "code",
   "execution_count": 26,
   "metadata": {},
   "outputs": [
    {
     "name": "stdout",
     "output_type": "stream",
     "text": [
      "Tf-idf + LogRegr train acc: 0.8978\n",
      "Tf-idf + LogRegr test acc: 0.8860\n"
     ]
    }
   ],
   "source": [
    "print(f'Tf-idf + LogRegr train acc: {accuracy_score(lr.predict(tf_idf_train), y_train):.4f}')\n",
    "print(f'Tf-idf + LogRegr test acc: {accuracy_score(lr.predict(tf_idf_test), y_test):.4f}')"
   ]
  },
  {
   "cell_type": "code",
   "execution_count": 27,
   "metadata": {},
   "outputs": [],
   "source": [
    "def get_sentence_embedding(sent):\n",
    "    embeds = []\n",
    "    for word in sent:\n",
    "        embeds += [ft.get_word_vector(word)]\n",
    "\n",
    "    return np.stack(embeds, axis=0).mean(0)"
   ]
  },
  {
   "cell_type": "code",
   "execution_count": 28,
   "metadata": {},
   "outputs": [],
   "source": [
    "train_embeds = np.stack([get_sentence_embedding(sent) for sent in X_train], axis=0)\n",
    "test_embeds = np.stack([get_sentence_embedding(sent) for sent in X_test], axis=0)"
   ]
  },
  {
   "cell_type": "code",
   "execution_count": 29,
   "metadata": {},
   "outputs": [],
   "source": [
    "lr = LogisticRegression(max_iter=1000).fit(train_embeds, y_train)"
   ]
  },
  {
   "cell_type": "code",
   "execution_count": 30,
   "metadata": {},
   "outputs": [
    {
     "name": "stdout",
     "output_type": "stream",
     "text": [
      "FastText + LogRegr train acc: 0.8571\n",
      "FastText + LogRegr test acc: 0.8555\n"
     ]
    }
   ],
   "source": [
    "print(f'FastText + LogRegr train acc: {accuracy_score(lr.predict(train_embeds), y_train):.4f}')\n",
    "print(f'FastText + LogRegr test acc: {accuracy_score(lr.predict(test_embeds), y_test):.4f}')"
   ]
  },
  {
   "cell_type": "code",
   "execution_count": 31,
   "metadata": {},
   "outputs": [],
   "source": [
    "BATCH_SIZE = 128\n",
    "MAX_SEQUENCE_LENGTH = 256\n",
    "MODEL_BLOCKS = 2\n",
    "MODEL_CHANNELS = 300\n",
    "NUM_EPOCHS = 5"
   ]
  },
  {
   "cell_type": "code",
   "execution_count": 32,
   "metadata": {},
   "outputs": [],
   "source": [
    "class EmbeddingsDataset(Dataset):\n",
    "    def __init__(self, sents, targets, max_length):\n",
    "        super().__init__()\n",
    "        self.max_length = max_length\n",
    "        self.sents = sents\n",
    "        self.targets = targets\n",
    "    \n",
    "    def __len__(self):\n",
    "        return len(self.sents)\n",
    "\n",
    "    def __getitem__(self, item):\n",
    "        sent = self.sents[item]\n",
    "        length = min(len(sent), self.max_length)\n",
    "\n",
    "        embeds = []\n",
    "        for word in sent[:length]:\n",
    "            embeds += [torch.from_numpy(ft.get_word_vector(word).astype(np.float32))]\n",
    "        \n",
    "        embeds = torch.stack(embeds, dim=1)\n",
    "        padding = torch.zeros((embeds.shape[0], self.max_length - length))\n",
    "        embeds = torch.cat([embeds, padding], dim=1)\n",
    "        target = self.targets[item]\n",
    "        return embeds, length, target"
   ]
  },
  {
   "cell_type": "code",
   "execution_count": 33,
   "metadata": {},
   "outputs": [],
   "source": [
    "train_set = EmbeddingsDataset(X_train, y_train, max_length=MAX_SEQUENCE_LENGTH)\n",
    "test_set = EmbeddingsDataset(X_test, y_test, max_length=MAX_SEQUENCE_LENGTH)\n",
    "\n",
    "train_loader = DataLoader(train_set, batch_size=BATCH_SIZE, num_workers=4,\n",
    "                          pin_memory=True, shuffle=True)\n",
    "test_loader = DataLoader(test_set, batch_size=BATCH_SIZE, num_workers=4,\n",
    "                         pin_memory=True)"
   ]
  },
  {
   "cell_type": "code",
   "execution_count": 34,
   "metadata": {},
   "outputs": [
    {
     "data": {
      "text/plain": [
       "device(type='cuda', index=0)"
      ]
     },
     "execution_count": 34,
     "metadata": {},
     "output_type": "execute_result"
    }
   ],
   "source": [
    "device = torch.device('cuda:0' if torch.cuda.is_available() else 'cpu')\n",
    "device"
   ]
  },
  {
   "cell_type": "code",
   "execution_count": 35,
   "metadata": {},
   "outputs": [],
   "source": [
    "class BasicBlock(nn.Module):\n",
    "    def __init__(self, num_channels, kernel_size):\n",
    "        super().__init__()\n",
    "        padding = (kernel_size - 1) // 2\n",
    "        self.conv1 = nn.Conv1d(num_channels, num_channels, kernel_size,\n",
    "                               padding=padding, bias=False)\n",
    "        self.bn1 = nn.BatchNorm1d(num_channels)\n",
    "        self.conv2 = nn.Conv1d(num_channels, num_channels, kernel_size,\n",
    "                               padding=padding, bias=False)\n",
    "        self.bn2 = nn.BatchNorm1d(num_channels)\n",
    "        self.relu = nn.LeakyReLU(0.1)\n",
    "\n",
    "    def forward(self, x):\n",
    "        out = self.conv1(x)\n",
    "        out = self.bn1(out)\n",
    "        out = self.relu(out)\n",
    "        out = self.conv2(out)\n",
    "        out = self.bn2(out)\n",
    "        out = self.relu(out + x)\n",
    "        return out\n",
    "\n",
    "class TextCNN(nn.Module):\n",
    "    def __init__(self, num_blocks, num_channels, num_classes, kernel_size=5):\n",
    "        super().__init__()\n",
    "        self.backbone = nn.Sequential(\n",
    "            *[BasicBlock(num_channels, kernel_size) for _ in range(num_blocks)]\n",
    "        )\n",
    "\n",
    "        self.classifier = nn.Linear(num_channels, num_classes)\n",
    "\n",
    "    @staticmethod\n",
    "    def get_lengths_mask(embeds, lengths):\n",
    "        mask = torch.arange(embeds.shape[-1]).unsqueeze(0).to(embeds.device)\n",
    "        mask = (mask < lengths.unsqueeze(1)).to(torch.float)\n",
    "        return mask.unsqueeze(1)\n",
    "\n",
    "    def forward(self, embeds, lengths):\n",
    "        # embeds: (B, C, T), lengths: (B, )\n",
    "        features = self.backbone(embeds)\n",
    "        # features: (B, C, T)\n",
    "        mask = self.get_lengths_mask(embeds, lengths)\n",
    "        # mask: (B, 1, T)\n",
    "        features = (features * mask).sum(-1) / lengths.unsqueeze(1)\n",
    "        # features: (B, C)\n",
    "        logits = self.classifier(features)\n",
    "        # logits: (B, num_classes)\n",
    "        return logits"
   ]
  },
  {
   "cell_type": "code",
   "execution_count": 36,
   "metadata": {},
   "outputs": [],
   "source": [
    "from IPython.display import clear_output\n",
    "from tqdm.notebook import tqdm\n",
    "\n",
    "\n",
    "def plot_losses(train_losses, test_losses, train_accuracies, test_accuracies):\n",
    "    clear_output()\n",
    "    fig, axs = plt.subplots(1, 2, figsize=(13, 4))\n",
    "    axs[0].plot(range(1, len(train_losses) + 1), train_losses, label='train', color='deepskyblue', linewidth=2)\n",
    "    axs[0].plot(range(1, len(test_losses) + 1), test_losses, label='test', color='springgreen', linewidth=2)\n",
    "    axs[0].set_ylabel('loss')\n",
    "\n",
    "    axs[1].plot(range(1, len(train_accuracies) + 1), train_accuracies, label='train',\n",
    "                color='deepskyblue', linewidth=2)\n",
    "    axs[1].plot(range(1, len(test_accuracies) + 1), test_accuracies, label='test',\n",
    "                color='springgreen', linewidth=2)\n",
    "    axs[1].set_ylabel('accuracy')\n",
    "\n",
    "    for ax in axs:\n",
    "        ax.set_xlabel('epoch')\n",
    "        ax.legend()\n",
    "\n",
    "    plt.show()"
   ]
  },
  {
   "cell_type": "code",
   "execution_count": 37,
   "metadata": {},
   "outputs": [],
   "source": [
    "def training_epoch(model, optimizer, criterion, train_loader, tqdm_desc):\n",
    "    train_loss, train_accuracy = 0.0, 0.0\n",
    "    model.train()\n",
    "    for embeds, lengths, labels in tqdm(train_loader, desc=tqdm_desc):\n",
    "        embeds = embeds.to(device)\n",
    "        lengths = lengths.to(device)\n",
    "        labels = labels.to(device)\n",
    "        embeds = embeds[..., :lengths.max()]\n",
    "\n",
    "        optimizer.zero_grad()\n",
    "        logits = model(embeds, lengths)\n",
    "        loss = criterion(logits, labels)\n",
    "        loss.backward()\n",
    "        optimizer.step()\n",
    "\n",
    "        train_loss += loss.item() * embeds.shape[0]\n",
    "        train_accuracy += (logits.argmax(1) == labels).sum().item()\n",
    "\n",
    "    train_loss /= len(train_loader.dataset)\n",
    "    train_accuracy /= len(train_loader.dataset)\n",
    "    return train_loss, train_accuracy\n",
    "\n",
    "\n",
    "@torch.no_grad()\n",
    "def validation_epoch(model, criterion, valid_loader, tqdm_desc):\n",
    "    valid_loss, valid_accuracy = 0.0, 0.0\n",
    "    model.eval()\n",
    "    for embeds, lengths, labels in tqdm(valid_loader, desc=tqdm_desc):\n",
    "        embeds = embeds.to(device)\n",
    "        lengths = lengths.to(device)\n",
    "        labels = labels.to(device)\n",
    "        embeds = embeds[..., :lengths.max()]\n",
    "\n",
    "        logits = model(embeds, lengths)\n",
    "        loss = criterion(logits, labels)\n",
    "\n",
    "        valid_loss += loss.item() * embeds.shape[0]\n",
    "        valid_accuracy += (logits.argmax(1) == labels).sum().item()\n",
    "\n",
    "    valid_loss /= len(valid_loader.dataset)\n",
    "    valid_accuracy /= len(valid_loader.dataset)\n",
    "    return valid_loss, valid_accuracy\n",
    "\n",
    "\n",
    "def train(model, optimizer, scheduler, criterion, train_loader, valid_loader, num_epochs):\n",
    "    train_losses, valid_losses = [], []\n",
    "    train_accuracies, valid_accuracies = [], []\n",
    "\n",
    "    for epoch in range(1, num_epochs + 1):\n",
    "        train_loss, train_accuracy = training_epoch(\n",
    "            model, optimizer, criterion, train_loader,\n",
    "            tqdm_desc=f'Training {epoch}/{num_epochs}'\n",
    "        )\n",
    "        valid_loss, valid_accuracy = validation_epoch(\n",
    "            model, criterion, valid_loader,\n",
    "            tqdm_desc=f'Validating {epoch}/{num_epochs}'\n",
    "        )\n",
    "\n",
    "        if scheduler is not None:\n",
    "            scheduler.step()\n",
    "\n",
    "        train_losses += [train_loss]\n",
    "        train_accuracies += [train_accuracy]\n",
    "        valid_losses += [valid_loss]\n",
    "        valid_accuracies += [valid_accuracy]\n",
    "        plot_losses(train_losses, valid_losses, train_accuracies, valid_accuracies)"
   ]
  },
  {
   "cell_type": "code",
   "execution_count": null,
   "metadata": {},
   "outputs": [],
   "source": [
    "device = torch.device('cuda:0' if torch.cuda.is_available() else 'cpu')\n",
    "device"
   ]
  },
  {
   "cell_type": "code",
   "execution_count": 38,
   "metadata": {},
   "outputs": [],
   "source": [
    "model = TextCNN(num_blocks=MODEL_BLOCKS, num_channels=MODEL_CHANNELS, num_classes=2).to(device)\n",
    "optimizer = torch.optim.Adam(model.parameters(), lr=1e-3)\n",
    "scheduler = torch.optim.lr_scheduler.CosineAnnealingLR(optimizer, NUM_EPOCHS)\n",
    "criterion = nn.CrossEntropyLoss()"
   ]
  },
  {
   "cell_type": "code",
   "execution_count": 39,
   "metadata": {},
   "outputs": [
    {
     "data": {
      "application/vnd.jupyter.widget-view+json": {
       "model_id": "5d6c8ac661bc45e982051db928a5947b",
       "version_major": 2,
       "version_minor": 0
      },
      "text/plain": [
       "Training 1/5:   0%|          | 0/772 [00:00<?, ?it/s]"
      ]
     },
     "metadata": {},
     "output_type": "display_data"
    }
   ],
   "source": [
    "train(model, optimizer, scheduler, criterion, train_loader, test_loader, NUM_EPOCHS)"
   ]
  }
 ],
 "metadata": {
  "kernelspec": {
   "display_name": "Python 3",
   "language": "python",
   "name": "python3"
  },
  "language_info": {
   "codemirror_mode": {
    "name": "ipython",
    "version": 3
   },
   "file_extension": ".py",
   "mimetype": "text/x-python",
   "name": "python",
   "nbconvert_exporter": "python",
   "pygments_lexer": "ipython3",
   "version": "3.11.4"
  },
  "orig_nbformat": 4
 },
 "nbformat": 4,
 "nbformat_minor": 2
}
